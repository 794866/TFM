{
 "cells": [
  {
   "cell_type": "code",
   "execution_count": null,
   "metadata": {
    "colab": {
     "base_uri": "https://localhost:8080/"
    },
    "id": "nAZvo7_ybEUC",
    "outputId": "b8ea17d8-f924-456e-fb5c-43c4dcc82ca0"
   },
   "outputs": [
    {
     "name": "stdout",
     "output_type": "stream",
     "text": [
      "Looking in indexes: https://pypi.org/simple, https://us-python.pkg.dev/colab-wheels/public/simple/\n",
      "Collecting keras==2.9.0\n",
      "  Downloading keras-2.9.0-py2.py3-none-any.whl (1.6 MB)\n",
      "\u001b[K     |████████████████████████████████| 1.6 MB 22.4 MB/s \n",
      "\u001b[?25hInstalling collected packages: keras\n",
      "  Attempting uninstall: keras\n",
      "    Found existing installation: keras 2.8.0\n",
      "    Uninstalling keras-2.8.0:\n",
      "      Successfully uninstalled keras-2.8.0\n",
      "\u001b[31mERROR: pip's dependency resolver does not currently take into account all the packages that are installed. This behaviour is the source of the following dependency conflicts.\n",
      "tensorflow 2.8.2+zzzcolab20220719082949 requires keras<2.9,>=2.8.0rc0, but you have keras 2.9.0 which is incompatible.\u001b[0m\n",
      "Successfully installed keras-2.9.0\n",
      "Looking in indexes: https://pypi.org/simple, https://us-python.pkg.dev/colab-wheels/public/simple/\n",
      "Collecting tensorflow==2.9.1\n",
      "  Downloading tensorflow-2.9.1-cp37-cp37m-manylinux_2_17_x86_64.manylinux2014_x86_64.whl (511.7 MB)\n",
      "\u001b[K     |████████████████████████████████| 511.7 MB 5.9 kB/s \n",
      "\u001b[?25hRequirement already satisfied: wrapt>=1.11.0 in /usr/local/lib/python3.7/dist-packages (from tensorflow==2.9.1) (1.14.1)\n",
      "Requirement already satisfied: keras-preprocessing>=1.1.1 in /usr/local/lib/python3.7/dist-packages (from tensorflow==2.9.1) (1.1.2)\n",
      "Requirement already satisfied: tensorflow-io-gcs-filesystem>=0.23.1 in /usr/local/lib/python3.7/dist-packages (from tensorflow==2.9.1) (0.26.0)\n",
      "Collecting gast<=0.4.0,>=0.2.1\n",
      "  Downloading gast-0.4.0-py3-none-any.whl (9.8 kB)\n",
      "Requirement already satisfied: keras<2.10.0,>=2.9.0rc0 in /usr/local/lib/python3.7/dist-packages (from tensorflow==2.9.1) (2.9.0)\n",
      "Requirement already satisfied: typing-extensions>=3.6.6 in /usr/local/lib/python3.7/dist-packages (from tensorflow==2.9.1) (4.1.1)\n",
      "Requirement already satisfied: opt-einsum>=2.3.2 in /usr/local/lib/python3.7/dist-packages (from tensorflow==2.9.1) (3.3.0)\n",
      "Requirement already satisfied: six>=1.12.0 in /usr/local/lib/python3.7/dist-packages (from tensorflow==2.9.1) (1.15.0)\n",
      "Requirement already satisfied: termcolor>=1.1.0 in /usr/local/lib/python3.7/dist-packages (from tensorflow==2.9.1) (1.1.0)\n",
      "Requirement already satisfied: setuptools in /usr/local/lib/python3.7/dist-packages (from tensorflow==2.9.1) (57.4.0)\n",
      "Requirement already satisfied: packaging in /usr/local/lib/python3.7/dist-packages (from tensorflow==2.9.1) (21.3)\n",
      "Requirement already satisfied: astunparse>=1.6.0 in /usr/local/lib/python3.7/dist-packages (from tensorflow==2.9.1) (1.6.3)\n",
      "Collecting tensorflow-estimator<2.10.0,>=2.9.0rc0\n",
      "  Downloading tensorflow_estimator-2.9.0-py2.py3-none-any.whl (438 kB)\n",
      "\u001b[K     |████████████████████████████████| 438 kB 49.7 MB/s \n",
      "\u001b[?25hRequirement already satisfied: protobuf<3.20,>=3.9.2 in /usr/local/lib/python3.7/dist-packages (from tensorflow==2.9.1) (3.17.3)\n",
      "Requirement already satisfied: libclang>=13.0.0 in /usr/local/lib/python3.7/dist-packages (from tensorflow==2.9.1) (14.0.6)\n",
      "Requirement already satisfied: absl-py>=1.0.0 in /usr/local/lib/python3.7/dist-packages (from tensorflow==2.9.1) (1.2.0)\n",
      "Requirement already satisfied: grpcio<2.0,>=1.24.3 in /usr/local/lib/python3.7/dist-packages (from tensorflow==2.9.1) (1.47.0)\n",
      "Requirement already satisfied: h5py>=2.9.0 in /usr/local/lib/python3.7/dist-packages (from tensorflow==2.9.1) (3.1.0)\n",
      "Requirement already satisfied: google-pasta>=0.1.1 in /usr/local/lib/python3.7/dist-packages (from tensorflow==2.9.1) (0.2.0)\n",
      "Requirement already satisfied: numpy>=1.20 in /usr/local/lib/python3.7/dist-packages (from tensorflow==2.9.1) (1.21.6)\n",
      "Collecting tensorboard<2.10,>=2.9\n",
      "  Downloading tensorboard-2.9.1-py3-none-any.whl (5.8 MB)\n",
      "\u001b[K     |████████████████████████████████| 5.8 MB 50.0 MB/s \n",
      "\u001b[?25hCollecting flatbuffers<2,>=1.12\n",
      "  Downloading flatbuffers-1.12-py2.py3-none-any.whl (15 kB)\n",
      "Requirement already satisfied: wheel<1.0,>=0.23.0 in /usr/local/lib/python3.7/dist-packages (from astunparse>=1.6.0->tensorflow==2.9.1) (0.37.1)\n",
      "Requirement already satisfied: cached-property in /usr/local/lib/python3.7/dist-packages (from h5py>=2.9.0->tensorflow==2.9.1) (1.5.2)\n",
      "Requirement already satisfied: google-auth<3,>=1.6.3 in /usr/local/lib/python3.7/dist-packages (from tensorboard<2.10,>=2.9->tensorflow==2.9.1) (1.35.0)\n",
      "Requirement already satisfied: tensorboard-plugin-wit>=1.6.0 in /usr/local/lib/python3.7/dist-packages (from tensorboard<2.10,>=2.9->tensorflow==2.9.1) (1.8.1)\n",
      "Requirement already satisfied: markdown>=2.6.8 in /usr/local/lib/python3.7/dist-packages (from tensorboard<2.10,>=2.9->tensorflow==2.9.1) (3.4.1)\n",
      "Requirement already satisfied: google-auth-oauthlib<0.5,>=0.4.1 in /usr/local/lib/python3.7/dist-packages (from tensorboard<2.10,>=2.9->tensorflow==2.9.1) (0.4.6)\n",
      "Requirement already satisfied: tensorboard-data-server<0.7.0,>=0.6.0 in /usr/local/lib/python3.7/dist-packages (from tensorboard<2.10,>=2.9->tensorflow==2.9.1) (0.6.1)\n",
      "Requirement already satisfied: werkzeug>=1.0.1 in /usr/local/lib/python3.7/dist-packages (from tensorboard<2.10,>=2.9->tensorflow==2.9.1) (1.0.1)\n",
      "Requirement already satisfied: requests<3,>=2.21.0 in /usr/local/lib/python3.7/dist-packages (from tensorboard<2.10,>=2.9->tensorflow==2.9.1) (2.23.0)\n",
      "Requirement already satisfied: pyasn1-modules>=0.2.1 in /usr/local/lib/python3.7/dist-packages (from google-auth<3,>=1.6.3->tensorboard<2.10,>=2.9->tensorflow==2.9.1) (0.2.8)\n",
      "Requirement already satisfied: cachetools<5.0,>=2.0.0 in /usr/local/lib/python3.7/dist-packages (from google-auth<3,>=1.6.3->tensorboard<2.10,>=2.9->tensorflow==2.9.1) (4.2.4)\n",
      "Requirement already satisfied: rsa<5,>=3.1.4 in /usr/local/lib/python3.7/dist-packages (from google-auth<3,>=1.6.3->tensorboard<2.10,>=2.9->tensorflow==2.9.1) (4.9)\n",
      "Requirement already satisfied: requests-oauthlib>=0.7.0 in /usr/local/lib/python3.7/dist-packages (from google-auth-oauthlib<0.5,>=0.4.1->tensorboard<2.10,>=2.9->tensorflow==2.9.1) (1.3.1)\n",
      "Requirement already satisfied: importlib-metadata>=4.4 in /usr/local/lib/python3.7/dist-packages (from markdown>=2.6.8->tensorboard<2.10,>=2.9->tensorflow==2.9.1) (4.12.0)\n",
      "Requirement already satisfied: zipp>=0.5 in /usr/local/lib/python3.7/dist-packages (from importlib-metadata>=4.4->markdown>=2.6.8->tensorboard<2.10,>=2.9->tensorflow==2.9.1) (3.8.1)\n",
      "Requirement already satisfied: pyasn1<0.5.0,>=0.4.6 in /usr/local/lib/python3.7/dist-packages (from pyasn1-modules>=0.2.1->google-auth<3,>=1.6.3->tensorboard<2.10,>=2.9->tensorflow==2.9.1) (0.4.8)\n",
      "Requirement already satisfied: urllib3!=1.25.0,!=1.25.1,<1.26,>=1.21.1 in /usr/local/lib/python3.7/dist-packages (from requests<3,>=2.21.0->tensorboard<2.10,>=2.9->tensorflow==2.9.1) (1.24.3)\n",
      "Requirement already satisfied: certifi>=2017.4.17 in /usr/local/lib/python3.7/dist-packages (from requests<3,>=2.21.0->tensorboard<2.10,>=2.9->tensorflow==2.9.1) (2022.6.15)\n",
      "Requirement already satisfied: idna<3,>=2.5 in /usr/local/lib/python3.7/dist-packages (from requests<3,>=2.21.0->tensorboard<2.10,>=2.9->tensorflow==2.9.1) (2.10)\n",
      "Requirement already satisfied: chardet<4,>=3.0.2 in /usr/local/lib/python3.7/dist-packages (from requests<3,>=2.21.0->tensorboard<2.10,>=2.9->tensorflow==2.9.1) (3.0.4)\n",
      "Requirement already satisfied: oauthlib>=3.0.0 in /usr/local/lib/python3.7/dist-packages (from requests-oauthlib>=0.7.0->google-auth-oauthlib<0.5,>=0.4.1->tensorboard<2.10,>=2.9->tensorflow==2.9.1) (3.2.0)\n",
      "Requirement already satisfied: pyparsing!=3.0.5,>=2.0.2 in /usr/local/lib/python3.7/dist-packages (from packaging->tensorflow==2.9.1) (3.0.9)\n",
      "Installing collected packages: tensorflow-estimator, tensorboard, gast, flatbuffers, tensorflow\n",
      "  Attempting uninstall: tensorflow-estimator\n",
      "    Found existing installation: tensorflow-estimator 2.8.0\n",
      "    Uninstalling tensorflow-estimator-2.8.0:\n",
      "      Successfully uninstalled tensorflow-estimator-2.8.0\n",
      "  Attempting uninstall: tensorboard\n",
      "    Found existing installation: tensorboard 2.8.0\n",
      "    Uninstalling tensorboard-2.8.0:\n",
      "      Successfully uninstalled tensorboard-2.8.0\n",
      "  Attempting uninstall: gast\n",
      "    Found existing installation: gast 0.5.3\n",
      "    Uninstalling gast-0.5.3:\n",
      "      Successfully uninstalled gast-0.5.3\n",
      "  Attempting uninstall: flatbuffers\n",
      "    Found existing installation: flatbuffers 2.0\n",
      "    Uninstalling flatbuffers-2.0:\n",
      "      Successfully uninstalled flatbuffers-2.0\n",
      "  Attempting uninstall: tensorflow\n",
      "    Found existing installation: tensorflow 2.8.2+zzzcolab20220719082949\n",
      "    Uninstalling tensorflow-2.8.2+zzzcolab20220719082949:\n",
      "      Successfully uninstalled tensorflow-2.8.2+zzzcolab20220719082949\n",
      "Successfully installed flatbuffers-1.12 gast-0.4.0 tensorboard-2.9.1 tensorflow-2.9.1 tensorflow-estimator-2.9.0\n"
     ]
    }
   ],
   "source": [
    "!pip install keras==2.9.0\n",
    "!pip install tensorflow==2.9.1"
   ]
  },
  {
   "cell_type": "code",
   "execution_count": null,
   "metadata": {
    "colab": {
     "base_uri": "https://localhost:8080/"
    },
    "id": "NFzFyZY9bv4C",
    "outputId": "de293639-d0ce-4455-9a00-f75db143433d"
   },
   "outputs": [
    {
     "name": "stdout",
     "output_type": "stream",
     "text": [
      "Mounted at /content/gdrive\n"
     ]
    }
   ],
   "source": [
    "\n",
    "import os\n",
    "import shutil\n",
    "from tensorflow.keras.utils import to_categorical\n",
    "import datetime\n",
    "\n",
    "from tensorflow.keras.models import Sequential\n",
    "from tensorflow.keras.layers import Dense, Dropout, Flatten, Activation, BatchNormalization\n",
    "from tensorflow.keras import regularizers\n",
    "from tensorflow.keras.layers import Conv2D, MaxPooling2D, LeakyReLU\n",
    "from tensorflow.keras.constraints import max_norm\n",
    "from tensorflow.keras import optimizers\n",
    "from sklearn.model_selection import train_test_split\n",
    "\n",
    "\n",
    "from tensorflow.keras.preprocessing.image import ImageDataGenerator, array_to_img, img_to_array, load_img\n",
    "from tensorflow.keras.callbacks import EarlyStopping, ModelCheckpoint\n",
    "import numpy as np\n",
    "from tensorflow.keras.models import load_model\n",
    "import re\n",
    "\n",
    "from matplotlib import pyplot as plt\n",
    "\n",
    "from numpy.random import seed\n",
    "import tensorflow as tf\n",
    "from tensorflow.keras import backend as k\n",
    "import os\n",
    "from IPython.display import Image\n",
    "from sklearn.model_selection import train_test_split\n",
    "import PIL\n",
    "\n",
    "from google.colab import drive\n",
    "drive.mount('/content/gdrive')\n"
   ]
  },
  {
   "cell_type": "code",
   "execution_count": null,
   "metadata": {
    "colab": {
     "base_uri": "https://localhost:8080/"
    },
    "id": "qnbnA5ydxlIh",
    "outputId": "f0ec1276-625f-49d9-d96d-1f1b8d96cacd"
   },
   "outputs": [
    {
     "name": "stdout",
     "output_type": "stream",
     "text": [
      "leyendo imagenes de  /content/gdrive/MyDrive/TFM/data/set/\n",
      "/content/gdrive/MyDrive/TFM/data/set/error 1\n",
      "/content/gdrive/MyDrive/TFM/data/set/front 163\n",
      "/content/gdrive/MyDrive/TFM/data/set/back 288\n",
      "/content/gdrive/MyDrive/TFM/data/set/passport 287\n",
      "Directorios leidos: 4\n",
      "Imagenes en cada directorio [164, 288, 287, 179]\n",
      "suma Total de imagenes en subdirs: 918\n"
     ]
    }
   ],
   "source": [
    "pathToImages = '/content/gdrive/MyDrive/TFM/data/set'\n",
    "dirname = os.path.join(os.getcwd(), pathToImages)\n",
    "imgpath = dirname + os.sep \n",
    " \n",
    "images = []\n",
    "directories = []\n",
    "dircount = []\n",
    "prevRoot=''\n",
    "cant=0\n",
    "\n",
    "img_height = 400\n",
    "img_width = 600\n",
    " \n",
    "print(\"leyendo imagenes de \",imgpath)\n",
    " \n",
    "for root, dirnames, filenames in os.walk(imgpath):\n",
    "    for filename in filenames:\n",
    "        if re.search(\"\\.(jpg|jpeg|png|bmp|tiff)$\", filename):\n",
    "            cant=cant+1\n",
    "            filepath = os.path.join(root, filename)\n",
    "            #image = plt.imread(filepath)\n",
    "            image = PIL.Image.open(filepath).convert('RGB')\n",
    "            image = image.resize((img_height,img_width),PIL.Image.ANTIALIAS)\n",
    "            image_array = img_to_array(image)\n",
    "            images.append(image_array)\n",
    "            b = \"Leyendo...\" + str(cant)\n",
    "            print (b, end=\"\\r\")\n",
    "            if prevRoot !=root:\n",
    "                print(root, cant)\n",
    "                prevRoot=root\n",
    "                directories.append(root)\n",
    "                dircount.append(cant)\n",
    "                cant=0\n",
    "dircount.append(cant)\n",
    " \n",
    "dircount = dircount[1:]\n",
    "dircount[0]=dircount[0]+1\n",
    "print('Directorios leidos:',len(directories))\n",
    "print(\"Imagenes en cada directorio\", dircount)\n",
    "print('suma Total de imagenes en subdirs:',sum(dircount))"
   ]
  },
  {
   "cell_type": "code",
   "execution_count": null,
   "metadata": {
    "colab": {
     "base_uri": "https://localhost:8080/"
    },
    "id": "Ng26iw1Jx8xW",
    "outputId": "56b3aefa-b1ab-432d-b3ff-15c72fbf0f36"
   },
   "outputs": [
    {
     "name": "stdout",
     "output_type": "stream",
     "text": [
      "Cantidad etiquetas creadas:  918\n",
      "0 error\n",
      "1 front\n",
      "2 back\n",
      "3 passport\n",
      "Total number of outputs :  4\n",
      "Output classes :  [0 1 2 3]\n"
     ]
    }
   ],
   "source": [
    "labels=[]\n",
    "indice=0\n",
    "for cantidad in dircount:\n",
    "    for i in range(cantidad):\n",
    "        labels.append(indice)\n",
    "    indice=indice+1\n",
    "print(\"Cantidad etiquetas creadas: \",len(labels))\n",
    " \n",
    "deportes=[]\n",
    "indice=0\n",
    "for directorio in directories:\n",
    "    name = directorio.split(os.sep)\n",
    "    print(indice , name[len(name)-1])\n",
    "    deportes.append(name[len(name)-1])\n",
    "    indice=indice+1\n",
    " \n",
    "y = np.array(labels)\n",
    "X = np.array(images, dtype=np.uint8) #convierto de lista a numpy\n",
    " \n",
    "# Find the unique numbers from the train labels\n",
    "classes = np.unique(y)\n",
    "nClasses = len(classes)\n",
    "print('Total number of outputs : ', nClasses)\n",
    "print('Output classes : ', classes)"
   ]
  },
  {
   "cell_type": "code",
   "execution_count": null,
   "metadata": {
    "colab": {
     "base_uri": "https://localhost:8080/"
    },
    "id": "c3ob8CWoyDCk",
    "outputId": "0773e618-897e-4812-912a-1f8438389306"
   },
   "outputs": [
    {
     "name": "stdout",
     "output_type": "stream",
     "text": [
      "Training data shape :  (734, 600, 400, 3) (734,)\n",
      "Testing data shape :  (184, 600, 400, 3) (184,)\n",
      "Original label: 0\n",
      "After conversion to one-hot: [1. 0. 0. 0.]\n",
      "(587, 600, 400, 3) (147, 600, 400, 3) (587, 4) (147, 4)\n"
     ]
    }
   ],
   "source": [
    "#Mezclar todo y crear los grupos de entrenamiento y testing\n",
    "train_X,test_X,train_Y,test_Y = train_test_split(X,y,test_size=0.2)\n",
    "print('Training data shape : ', train_X.shape, train_Y.shape)\n",
    "print('Testing data shape : ', test_X.shape, test_Y.shape)\n",
    " \n",
    "train_X = train_X.astype('float32')\n",
    "test_X = test_X.astype('float32')\n",
    "train_X = train_X / 255.\n",
    "test_X = test_X / 255.\n",
    " \n",
    "# Change the labels from categorical to one-hot encoding\n",
    "train_Y_one_hot = to_categorical(train_Y)\n",
    "test_Y_one_hot = to_categorical(test_Y)\n",
    " \n",
    "# Display the change for category label using one-hot encoding\n",
    "print('Original label:', train_Y[0])\n",
    "print('After conversion to one-hot:', train_Y_one_hot[0])\n",
    " \n",
    "train_X,valid_X,train_label,valid_label = train_test_split(train_X, train_Y_one_hot, test_size=0.2, random_state=13)\n",
    " \n",
    "print(train_X.shape,valid_X.shape,train_label.shape,valid_label.shape)\n",
    "\n",
    "#DATA AUMENGTATION TO TRAING AND VALIDATION EXISTENCE DATA\n",
    "#Funcion de DataAumengtation para entrenar el modelo en pasos\n",
    "train_generator = ImageDataGenerator(\n",
    "        rotation_range = 20,\n",
    "        width_shift_range = 0.2,\n",
    "        height_shift_range = 0.2,\n",
    "        rescale = 1. / 255,\n",
    "        shear_range = 0.2,\n",
    "        zoom_range = 0.2,\n",
    "        horizontal_flip = True,\n",
    "        fill_mode = 'nearest')\n",
    "\n",
    "valid_generator = ImageDataGenerator(rescale = 1. / 255) "
   ]
  },
  {
   "cell_type": "code",
   "execution_count": null,
   "metadata": {
    "id": "8ISRLrOsbziF"
   },
   "outputs": [],
   "source": [
    "#VARIABLES DEL MODELO\n",
    "epochs = 100\n",
    "batch_size = 32\n",
    "learning_rate = 0.0003\n",
    "channel = 3\n",
    "input_shape=(img_height, img_width, channel)\n",
    "\n",
    "#Callbacks to save the Keras model and load tensorboard\n",
    "path_to_save = '/content/gdrive/MyDrive/TFM/modelos/'\n",
    "callback_to_save_model = tf.keras.callbacks.ModelCheckpoint(filepath = path_to_save + 'model.{epoch:02d}-{val_loss:.2f}.h5')"
   ]
  },
  {
   "cell_type": "code",
   "execution_count": null,
   "metadata": {
    "id": "ttaGZHYfO2JA"
   },
   "outputs": [],
   "source": [
    "kernel_size = 5\n",
    "def createModel():\n",
    "  model = Sequential()\n",
    "\n",
    "  #Primera capa\n",
    "  model.add(Conv2D(16,(5,5),input_shape=(img_width,img_height,channel),activation='relu'))\n",
    "  model.add(MaxPooling2D())\n",
    "  model.add(Conv2D(32,(5,5),activation='relu'))\n",
    "  model.add(MaxPooling2D())\n",
    "  model.add(Conv2D(64,(5,5),activation='relu'))\n",
    "  model.add(MaxPooling2D())\n",
    "  model.add(Dropout(0.2))\n",
    "  model.add(Flatten())\n",
    "  model.add(Dense(528,activation='relu'))\n",
    "  model.add(Dense(342,activation='relu'))\n",
    "  model.add(Dense(128,activation='relu'))\n",
    "\n",
    "  #Clasificación \n",
    "  model.add(Dense(4))\n",
    "  model.add(Activation('softmax'))\n",
    "\n",
    "  return model\n"
   ]
  },
  {
   "cell_type": "code",
   "execution_count": null,
   "metadata": {
    "colab": {
     "base_uri": "https://localhost:8080/"
    },
    "id": "li00IoW0AYgb",
    "outputId": "73b18fd6-67b9-4a4d-a227-bd809b829cb4"
   },
   "outputs": [
    {
     "name": "stderr",
     "output_type": "stream",
     "text": [
      "/usr/local/lib/python3.7/dist-packages/ipykernel_launcher.py:7: UserWarning: `Model.fit_generator` is deprecated and will be removed in a future version. Please use `Model.fit`, which supports generators.\n",
      "  import sys\n"
     ]
    },
    {
     "name": "stdout",
     "output_type": "stream",
     "text": [
      "Epoch 1/100\n",
      "18/18 [==============================] - 43s 2s/step - loss: 1.3631 - accuracy: 0.3099 - val_loss: 1.3890 - val_accuracy: 0.2266\n",
      "Epoch 2/100\n",
      "18/18 [==============================] - 30s 2s/step - loss: 1.3356 - accuracy: 0.3171 - val_loss: 1.3660 - val_accuracy: 0.3359\n",
      "Epoch 3/100\n",
      "18/18 [==============================] - 30s 2s/step - loss: 1.3513 - accuracy: 0.3225 - val_loss: 1.4271 - val_accuracy: 0.3438\n",
      "Epoch 4/100\n",
      "18/18 [==============================] - 30s 2s/step - loss: 1.3467 - accuracy: 0.2919 - val_loss: 1.3918 - val_accuracy: 0.3438\n",
      "Epoch 5/100\n",
      "18/18 [==============================] - 30s 2s/step - loss: 1.3462 - accuracy: 0.3171 - val_loss: 1.3932 - val_accuracy: 0.3516\n",
      "Epoch 6/100\n",
      "18/18 [==============================] - 29s 2s/step - loss: 1.3412 - accuracy: 0.3333 - val_loss: 1.3839 - val_accuracy: 0.2266\n",
      "Epoch 7/100\n",
      "18/18 [==============================] - 31s 2s/step - loss: 1.3019 - accuracy: 0.3576 - val_loss: 1.2831 - val_accuracy: 0.3203\n",
      "Epoch 8/100\n",
      "18/18 [==============================] - 30s 2s/step - loss: 1.2200 - accuracy: 0.4162 - val_loss: 1.0802 - val_accuracy: 0.5078\n",
      "Epoch 9/100\n",
      "18/18 [==============================] - 30s 2s/step - loss: 1.0692 - accuracy: 0.5387 - val_loss: 0.9348 - val_accuracy: 0.5781\n",
      "Epoch 10/100\n",
      "18/18 [==============================] - 29s 2s/step - loss: 1.0707 - accuracy: 0.5459 - val_loss: 0.9839 - val_accuracy: 0.6406\n",
      "Epoch 11/100\n",
      "18/18 [==============================] - 28s 2s/step - loss: 0.9710 - accuracy: 0.5856 - val_loss: 0.8584 - val_accuracy: 0.6406\n",
      "Epoch 12/100\n",
      "18/18 [==============================] - 30s 2s/step - loss: 0.9515 - accuracy: 0.5748 - val_loss: 0.9435 - val_accuracy: 0.5156\n",
      "Epoch 13/100\n",
      "18/18 [==============================] - 31s 2s/step - loss: 0.9318 - accuracy: 0.6126 - val_loss: 0.8296 - val_accuracy: 0.6641\n",
      "Epoch 14/100\n",
      "18/18 [==============================] - 37s 2s/step - loss: 0.9003 - accuracy: 0.6288 - val_loss: 0.8333 - val_accuracy: 0.6875\n",
      "Epoch 15/100\n",
      "18/18 [==============================] - 35s 2s/step - loss: 0.8511 - accuracy: 0.6288 - val_loss: 0.7363 - val_accuracy: 0.6953\n",
      "Epoch 16/100\n",
      "18/18 [==============================] - 29s 2s/step - loss: 0.8179 - accuracy: 0.6739 - val_loss: 0.7063 - val_accuracy: 0.7188\n",
      "Epoch 17/100\n",
      "18/18 [==============================] - 29s 2s/step - loss: 0.8546 - accuracy: 0.6450 - val_loss: 0.8652 - val_accuracy: 0.6641\n",
      "Epoch 18/100\n",
      "18/18 [==============================] - 31s 2s/step - loss: 0.9345 - accuracy: 0.5838 - val_loss: 0.7977 - val_accuracy: 0.6797\n",
      "Epoch 19/100\n",
      "18/18 [==============================] - 37s 2s/step - loss: 0.8608 - accuracy: 0.6468 - val_loss: 0.7185 - val_accuracy: 0.7266\n",
      "Epoch 20/100\n",
      "18/18 [==============================] - 35s 2s/step - loss: 0.8441 - accuracy: 0.6613 - val_loss: 0.6937 - val_accuracy: 0.7266\n",
      "Epoch 21/100\n",
      "18/18 [==============================] - 30s 2s/step - loss: 0.7799 - accuracy: 0.6739 - val_loss: 0.7010 - val_accuracy: 0.7109\n",
      "Epoch 22/100\n",
      "18/18 [==============================] - 29s 2s/step - loss: 0.7191 - accuracy: 0.7225 - val_loss: 0.5957 - val_accuracy: 0.7422\n",
      "Epoch 23/100\n",
      "18/18 [==============================] - 29s 2s/step - loss: 0.7132 - accuracy: 0.7009 - val_loss: 0.5606 - val_accuracy: 0.8047\n",
      "Epoch 24/100\n",
      "18/18 [==============================] - 31s 2s/step - loss: 0.7756 - accuracy: 0.6937 - val_loss: 0.7089 - val_accuracy: 0.7266\n",
      "Epoch 25/100\n",
      "18/18 [==============================] - 38s 2s/step - loss: 0.7095 - accuracy: 0.7207 - val_loss: 0.5120 - val_accuracy: 0.7969\n",
      "Epoch 26/100\n",
      "18/18 [==============================] - 32s 2s/step - loss: 0.6872 - accuracy: 0.7369 - val_loss: 0.5178 - val_accuracy: 0.8203\n",
      "Epoch 27/100\n",
      "18/18 [==============================] - 29s 2s/step - loss: 0.6726 - accuracy: 0.7351 - val_loss: 0.5912 - val_accuracy: 0.7656\n",
      "Epoch 28/100\n",
      "18/18 [==============================] - 30s 2s/step - loss: 0.6119 - accuracy: 0.7604 - val_loss: 0.5029 - val_accuracy: 0.8125\n",
      "Epoch 29/100\n",
      "18/18 [==============================] - 38s 2s/step - loss: 0.6062 - accuracy: 0.7748 - val_loss: 0.5166 - val_accuracy: 0.7734\n",
      "Epoch 30/100\n",
      "18/18 [==============================] - 38s 2s/step - loss: 0.6216 - accuracy: 0.7586 - val_loss: 0.5054 - val_accuracy: 0.8125\n",
      "Epoch 31/100\n",
      "18/18 [==============================] - 32s 2s/step - loss: 0.5813 - accuracy: 0.7802 - val_loss: 0.5606 - val_accuracy: 0.8047\n",
      "Epoch 32/100\n",
      "18/18 [==============================] - 29s 2s/step - loss: 0.5724 - accuracy: 0.7892 - val_loss: 0.5542 - val_accuracy: 0.8203\n",
      "Epoch 33/100\n",
      "18/18 [==============================] - 29s 2s/step - loss: 0.6174 - accuracy: 0.7676 - val_loss: 0.5525 - val_accuracy: 0.7812\n",
      "Epoch 34/100\n",
      "18/18 [==============================] - 29s 2s/step - loss: 0.6041 - accuracy: 0.7712 - val_loss: 0.5900 - val_accuracy: 0.7734\n",
      "Epoch 35/100\n",
      "18/18 [==============================] - 37s 2s/step - loss: 0.5535 - accuracy: 0.8108 - val_loss: 0.5180 - val_accuracy: 0.8281\n",
      "Epoch 36/100\n",
      "18/18 [==============================] - 37s 2s/step - loss: 0.5465 - accuracy: 0.7928 - val_loss: 0.4948 - val_accuracy: 0.8047\n",
      "Epoch 37/100\n",
      "18/18 [==============================] - 30s 2s/step - loss: 0.5114 - accuracy: 0.8144 - val_loss: 0.3754 - val_accuracy: 0.8516\n",
      "Epoch 38/100\n",
      "18/18 [==============================] - 29s 2s/step - loss: 0.5177 - accuracy: 0.7874 - val_loss: 0.4959 - val_accuracy: 0.8438\n",
      "Epoch 39/100\n",
      "18/18 [==============================] - 29s 2s/step - loss: 0.4948 - accuracy: 0.8090 - val_loss: 0.4576 - val_accuracy: 0.8594\n",
      "Epoch 40/100\n",
      "18/18 [==============================] - 34s 2s/step - loss: 0.5204 - accuracy: 0.8000 - val_loss: 0.5389 - val_accuracy: 0.7734\n",
      "Epoch 41/100\n",
      "18/18 [==============================] - 38s 2s/step - loss: 0.5134 - accuracy: 0.7946 - val_loss: 0.6104 - val_accuracy: 0.7656\n",
      "Epoch 42/100\n",
      "18/18 [==============================] - 30s 2s/step - loss: 0.4925 - accuracy: 0.8144 - val_loss: 0.3724 - val_accuracy: 0.8828\n",
      "Epoch 43/100\n",
      "18/18 [==============================] - 29s 2s/step - loss: 0.4981 - accuracy: 0.8234 - val_loss: 0.3861 - val_accuracy: 0.8516\n",
      "Epoch 44/100\n",
      "18/18 [==============================] - 30s 2s/step - loss: 0.4657 - accuracy: 0.8270 - val_loss: 0.4769 - val_accuracy: 0.8359\n",
      "Epoch 45/100\n",
      "18/18 [==============================] - 30s 2s/step - loss: 0.4311 - accuracy: 0.8505 - val_loss: 0.4731 - val_accuracy: 0.8281\n",
      "Epoch 46/100\n",
      "18/18 [==============================] - 38s 2s/step - loss: 0.4609 - accuracy: 0.8360 - val_loss: 0.4471 - val_accuracy: 0.8359\n",
      "Epoch 47/100\n",
      "18/18 [==============================] - 37s 2s/step - loss: 0.4245 - accuracy: 0.8396 - val_loss: 0.4430 - val_accuracy: 0.8438\n",
      "Epoch 48/100\n",
      "18/18 [==============================] - 30s 2s/step - loss: 0.4350 - accuracy: 0.8414 - val_loss: 0.4442 - val_accuracy: 0.8438\n",
      "Epoch 49/100\n",
      "18/18 [==============================] - 30s 2s/step - loss: 0.4105 - accuracy: 0.8486 - val_loss: 0.4876 - val_accuracy: 0.8125\n",
      "Epoch 50/100\n",
      "18/18 [==============================] - 29s 2s/step - loss: 0.4384 - accuracy: 0.8450 - val_loss: 0.4160 - val_accuracy: 0.8516\n",
      "Epoch 51/100\n",
      "18/18 [==============================] - 31s 2s/step - loss: 0.3688 - accuracy: 0.8595 - val_loss: 0.4057 - val_accuracy: 0.8516\n",
      "Epoch 52/100\n",
      "18/18 [==============================] - 38s 2s/step - loss: 0.3943 - accuracy: 0.8541 - val_loss: 0.3813 - val_accuracy: 0.8438\n",
      "Epoch 53/100\n",
      "18/18 [==============================] - 35s 2s/step - loss: 0.4132 - accuracy: 0.8595 - val_loss: 0.4639 - val_accuracy: 0.8203\n",
      "Epoch 54/100\n",
      "18/18 [==============================] - 30s 2s/step - loss: 0.3864 - accuracy: 0.8685 - val_loss: 0.3960 - val_accuracy: 0.8750\n",
      "Epoch 55/100\n",
      "18/18 [==============================] - 29s 2s/step - loss: 0.3558 - accuracy: 0.8775 - val_loss: 0.3648 - val_accuracy: 0.8125\n",
      "Epoch 56/100\n",
      "18/18 [==============================] - 37s 2s/step - loss: 0.3829 - accuracy: 0.8613 - val_loss: 0.3987 - val_accuracy: 0.8359\n",
      "Epoch 57/100\n",
      "18/18 [==============================] - 37s 2s/step - loss: 0.4182 - accuracy: 0.8414 - val_loss: 0.3908 - val_accuracy: 0.8281\n",
      "Epoch 58/100\n",
      "18/18 [==============================] - 30s 2s/step - loss: 0.3855 - accuracy: 0.8775 - val_loss: 0.4065 - val_accuracy: 0.8359\n",
      "Epoch 59/100\n",
      "18/18 [==============================] - 30s 2s/step - loss: 0.3548 - accuracy: 0.8595 - val_loss: 0.4884 - val_accuracy: 0.8203\n",
      "Epoch 60/100\n",
      "18/18 [==============================] - 29s 2s/step - loss: 0.3635 - accuracy: 0.8685 - val_loss: 0.3699 - val_accuracy: 0.8594\n",
      "Epoch 61/100\n",
      "18/18 [==============================] - 31s 2s/step - loss: 0.3852 - accuracy: 0.8685 - val_loss: 0.4099 - val_accuracy: 0.8594\n",
      "Epoch 62/100\n",
      "18/18 [==============================] - 37s 2s/step - loss: 0.3528 - accuracy: 0.8811 - val_loss: 0.3861 - val_accuracy: 0.8594\n",
      "Epoch 63/100\n",
      "18/18 [==============================] - 34s 2s/step - loss: 0.3604 - accuracy: 0.8793 - val_loss: 0.5788 - val_accuracy: 0.8203\n",
      "Epoch 64/100\n",
      "18/18 [==============================] - 29s 2s/step - loss: 0.3675 - accuracy: 0.8721 - val_loss: 0.4745 - val_accuracy: 0.8281\n",
      "Epoch 65/100\n",
      "18/18 [==============================] - 29s 2s/step - loss: 0.3453 - accuracy: 0.8649 - val_loss: 0.3478 - val_accuracy: 0.8906\n",
      "Epoch 66/100\n",
      "18/18 [==============================] - 30s 2s/step - loss: 0.3278 - accuracy: 0.8613 - val_loss: 0.5330 - val_accuracy: 0.8203\n",
      "Epoch 67/100\n",
      "18/18 [==============================] - 37s 2s/step - loss: 0.3598 - accuracy: 0.8829 - val_loss: 0.5568 - val_accuracy: 0.8125\n",
      "Epoch 68/100\n",
      "18/18 [==============================] - 38s 2s/step - loss: 0.3516 - accuracy: 0.8613 - val_loss: 0.4264 - val_accuracy: 0.8438\n",
      "Epoch 69/100\n",
      "18/18 [==============================] - 30s 2s/step - loss: 0.3439 - accuracy: 0.8685 - val_loss: 0.4583 - val_accuracy: 0.8438\n",
      "Epoch 70/100\n",
      "18/18 [==============================] - 29s 2s/step - loss: 0.3228 - accuracy: 0.8775 - val_loss: 0.4293 - val_accuracy: 0.8203\n",
      "Epoch 71/100\n",
      "18/18 [==============================] - 30s 2s/step - loss: 0.3197 - accuracy: 0.8993 - val_loss: 0.3738 - val_accuracy: 0.8438\n",
      "Epoch 72/100\n",
      "18/18 [==============================] - 29s 2s/step - loss: 0.3683 - accuracy: 0.8667 - val_loss: 0.3816 - val_accuracy: 0.8281\n",
      "Epoch 73/100\n",
      "18/18 [==============================] - 38s 2s/step - loss: 0.3563 - accuracy: 0.8613 - val_loss: 0.4414 - val_accuracy: 0.8125\n",
      "Epoch 74/100\n",
      "18/18 [==============================] - 36s 2s/step - loss: 0.3561 - accuracy: 0.8829 - val_loss: 0.3161 - val_accuracy: 0.9062\n",
      "Epoch 75/100\n",
      "18/18 [==============================] - 29s 2s/step - loss: 0.2939 - accuracy: 0.8865 - val_loss: 0.4001 - val_accuracy: 0.8516\n",
      "Epoch 76/100\n",
      "18/18 [==============================] - 29s 2s/step - loss: 0.3047 - accuracy: 0.8919 - val_loss: 0.3024 - val_accuracy: 0.8828\n",
      "Epoch 77/100\n",
      "18/18 [==============================] - 29s 2s/step - loss: 0.3239 - accuracy: 0.8663 - val_loss: 0.3704 - val_accuracy: 0.8594\n",
      "Epoch 78/100\n",
      "18/18 [==============================] - 37s 2s/step - loss: 0.3271 - accuracy: 0.8901 - val_loss: 0.4269 - val_accuracy: 0.8203\n",
      "Epoch 79/100\n",
      "18/18 [==============================] - 36s 2s/step - loss: 0.2919 - accuracy: 0.8991 - val_loss: 0.4413 - val_accuracy: 0.8281\n",
      "Epoch 80/100\n",
      "18/18 [==============================] - 31s 2s/step - loss: 0.2993 - accuracy: 0.8973 - val_loss: 0.6134 - val_accuracy: 0.7891\n",
      "Epoch 81/100\n",
      "18/18 [==============================] - 29s 2s/step - loss: 0.3344 - accuracy: 0.8685 - val_loss: 0.3378 - val_accuracy: 0.8594\n",
      "Epoch 82/100\n",
      "18/18 [==============================] - 29s 2s/step - loss: 0.3039 - accuracy: 0.8847 - val_loss: 0.3666 - val_accuracy: 0.8594\n",
      "Epoch 83/100\n",
      "18/18 [==============================] - 36s 2s/step - loss: 0.3303 - accuracy: 0.8847 - val_loss: 0.3312 - val_accuracy: 0.8516\n",
      "Epoch 84/100\n",
      "18/18 [==============================] - 37s 2s/step - loss: 0.2933 - accuracy: 0.8865 - val_loss: 0.4280 - val_accuracy: 0.8516\n",
      "Epoch 85/100\n",
      "18/18 [==============================] - 31s 2s/step - loss: 0.3205 - accuracy: 0.8865 - val_loss: 0.3604 - val_accuracy: 0.8516\n",
      "Epoch 86/100\n",
      "18/18 [==============================] - 29s 2s/step - loss: 0.2857 - accuracy: 0.8955 - val_loss: 0.3769 - val_accuracy: 0.8438\n",
      "Epoch 87/100\n",
      "18/18 [==============================] - 29s 2s/step - loss: 0.3039 - accuracy: 0.8883 - val_loss: 0.3387 - val_accuracy: 0.8438\n",
      "Epoch 88/100\n",
      "18/18 [==============================] - 31s 2s/step - loss: 0.2789 - accuracy: 0.9063 - val_loss: 0.3955 - val_accuracy: 0.8438\n",
      "Epoch 89/100\n",
      "18/18 [==============================] - 38s 2s/step - loss: 0.3004 - accuracy: 0.8865 - val_loss: 0.2733 - val_accuracy: 0.9141\n",
      "Epoch 90/100\n",
      "18/18 [==============================] - 38s 2s/step - loss: 0.3129 - accuracy: 0.8811 - val_loss: 0.3886 - val_accuracy: 0.8906\n",
      "Epoch 91/100\n",
      "18/18 [==============================] - 33s 2s/step - loss: 0.2838 - accuracy: 0.8865 - val_loss: 0.3603 - val_accuracy: 0.8516\n",
      "Epoch 92/100\n",
      "18/18 [==============================] - 31s 2s/step - loss: 0.2787 - accuracy: 0.9063 - val_loss: 0.3774 - val_accuracy: 0.8281\n",
      "Epoch 93/100\n",
      "18/18 [==============================] - 32s 2s/step - loss: 0.2682 - accuracy: 0.9080 - val_loss: 0.3306 - val_accuracy: 0.8750\n",
      "Epoch 94/100\n",
      "18/18 [==============================] - 31s 2s/step - loss: 0.3131 - accuracy: 0.8901 - val_loss: 0.3035 - val_accuracy: 0.9062\n",
      "Epoch 95/100\n",
      "18/18 [==============================] - 33s 2s/step - loss: 0.2596 - accuracy: 0.9081 - val_loss: 0.3218 - val_accuracy: 0.8828\n",
      "Epoch 96/100\n",
      "18/18 [==============================] - 33s 2s/step - loss: 0.3081 - accuracy: 0.8937 - val_loss: 0.3318 - val_accuracy: 0.8594\n",
      "Epoch 97/100\n",
      "18/18 [==============================] - 34s 2s/step - loss: 0.2557 - accuracy: 0.9171 - val_loss: 0.3990 - val_accuracy: 0.8516\n",
      "Epoch 98/100\n",
      "18/18 [==============================] - 33s 2s/step - loss: 0.2785 - accuracy: 0.8901 - val_loss: 0.3049 - val_accuracy: 0.8516\n",
      "Epoch 99/100\n",
      "18/18 [==============================] - 33s 2s/step - loss: 0.2434 - accuracy: 0.9045 - val_loss: 0.3994 - val_accuracy: 0.8359\n",
      "Epoch 100/100\n",
      "18/18 [==============================] - 34s 2s/step - loss: 0.2664 - accuracy: 0.9063 - val_loss: 0.3687 - val_accuracy: 0.8438\n",
      "6/6 [==============================] - 2s 240ms/step - loss: 138.3239 - accuracy: 0.2880\n",
      "Test loss: 138.3239288330078\n",
      "Test accuracy: 0.28804346919059753\n"
     ]
    }
   ],
   "source": [
    "AdamOptimizer = optimizers.Adam(lr=learning_rate)\n",
    "\n",
    "model = createModel()\n",
    "model.compile(optimizer=AdamOptimizer, loss='categorical_crossentropy', metrics=['accuracy'])\n",
    "\n",
    "#train_generator es el metodo de DataAumengtation declarado en el bloque anterior.\n",
    "model_trained = model.fit_generator(train_generator.flow(train_X, train_label, batch_size=batch_size, shuffle = True), steps_per_epoch=len(train_X) // batch_size, epochs=epochs, verbose=1, callbacks=callback_to_save_model, validation_data=valid_generator.flow(valid_X, valid_label, shuffle = True), validation_steps=len(valid_X) // batch_size)\n",
    "\n",
    "test_eval = model.evaluate(test_X, test_Y_one_hot, verbose=1)\n",
    " \n",
    "print('Test loss:', test_eval[0])\n",
    "print('Test accuracy:', test_eval[1])"
   ]
  },
  {
   "cell_type": "code",
   "execution_count": null,
   "metadata": {
    "colab": {
     "base_uri": "https://localhost:8080/",
     "height": 415
    },
    "id": "j292fNXnFOeD",
    "outputId": "bdc6577b-04bf-4e7f-cfdc-bca9e32ef495"
   },
   "outputs": [
    {
     "name": "stderr",
     "output_type": "stream",
     "text": [
      "/usr/local/lib/python3.7/dist-packages/keras/optimizer_v2/adam.py:105: UserWarning: The `lr` argument is deprecated, use `learning_rate` instead.\n",
      "  super(Adam, self).__init__(name, **kwargs)\n"
     ]
    },
    {
     "ename": "ValueError",
     "evalue": "ignored",
     "output_type": "error",
     "traceback": [
      "\u001b[0;31m---------------------------------------------------------------------------\u001b[0m",
      "\u001b[0;31mValueError\u001b[0m                                Traceback (most recent call last)",
      "\u001b[0;32m<ipython-input-9-a1f2d3fa4936>\u001b[0m in \u001b[0;36m<module>\u001b[0;34m\u001b[0m\n\u001b[1;32m     12\u001b[0m \u001b[0mresultados\u001b[0m \u001b[0;34m=\u001b[0m \u001b[0;34m[\u001b[0m\u001b[0;34m]\u001b[0m \u001b[0;31m## Array para salvar os resultados de cada execução do algoritmo\u001b[0m\u001b[0;34m\u001b[0m\u001b[0;34m\u001b[0m\u001b[0m\n\u001b[1;32m     13\u001b[0m \u001b[0;34m\u001b[0m\u001b[0m\n\u001b[0;32m---> 14\u001b[0;31m \u001b[0;32mfor\u001b[0m \u001b[0mtrain_index\u001b[0m\u001b[0;34m,\u001b[0m \u001b[0mtest_index\u001b[0m \u001b[0;32min\u001b[0m \u001b[0mskf\u001b[0m\u001b[0;34m.\u001b[0m\u001b[0msplit\u001b[0m\u001b[0;34m(\u001b[0m\u001b[0mtrain_X\u001b[0m\u001b[0;34m,\u001b[0m \u001b[0mtrain_label\u001b[0m\u001b[0;34m)\u001b[0m\u001b[0;34m:\u001b[0m\u001b[0;34m\u001b[0m\u001b[0;34m\u001b[0m\u001b[0m\n\u001b[0m\u001b[1;32m     15\u001b[0m   \u001b[0mprint\u001b[0m\u001b[0;34m(\u001b[0m\u001b[0;34m\"FOLD: \"\u001b[0m\u001b[0;34m,\u001b[0m \u001b[0mi\u001b[0m\u001b[0;34m,\u001b[0m \u001b[0;34m\"/\"\u001b[0m\u001b[0;34m,\u001b[0m \u001b[0mK\u001b[0m\u001b[0;34m,\u001b[0m \u001b[0;34m\"TRAIN sets:\"\u001b[0m\u001b[0;34m,\u001b[0m \u001b[0mlen\u001b[0m\u001b[0;34m(\u001b[0m\u001b[0mtrain_index\u001b[0m\u001b[0;34m)\u001b[0m\u001b[0;34m,\u001b[0m \u001b[0;34m\"TEST  sets:\"\u001b[0m\u001b[0;34m,\u001b[0m \u001b[0mlen\u001b[0m\u001b[0;34m(\u001b[0m\u001b[0mtest_index\u001b[0m\u001b[0;34m)\u001b[0m\u001b[0;34m)\u001b[0m\u001b[0;34m\u001b[0m\u001b[0;34m\u001b[0m\u001b[0m\n\u001b[1;32m     16\u001b[0m   \u001b[0mi\u001b[0m \u001b[0;34m=\u001b[0m \u001b[0mi\u001b[0m \u001b[0;34m+\u001b[0m \u001b[0;36m1\u001b[0m\u001b[0;34m\u001b[0m\u001b[0;34m\u001b[0m\u001b[0m\n",
      "\u001b[0;32m/usr/local/lib/python3.7/dist-packages/sklearn/model_selection/_split.py\u001b[0m in \u001b[0;36msplit\u001b[0;34m(self, X, y, groups)\u001b[0m\n\u001b[1;32m    338\u001b[0m             )\n\u001b[1;32m    339\u001b[0m \u001b[0;34m\u001b[0m\u001b[0m\n\u001b[0;32m--> 340\u001b[0;31m         \u001b[0;32mfor\u001b[0m \u001b[0mtrain\u001b[0m\u001b[0;34m,\u001b[0m \u001b[0mtest\u001b[0m \u001b[0;32min\u001b[0m \u001b[0msuper\u001b[0m\u001b[0;34m(\u001b[0m\u001b[0;34m)\u001b[0m\u001b[0;34m.\u001b[0m\u001b[0msplit\u001b[0m\u001b[0;34m(\u001b[0m\u001b[0mX\u001b[0m\u001b[0;34m,\u001b[0m \u001b[0my\u001b[0m\u001b[0;34m,\u001b[0m \u001b[0mgroups\u001b[0m\u001b[0;34m)\u001b[0m\u001b[0;34m:\u001b[0m\u001b[0;34m\u001b[0m\u001b[0;34m\u001b[0m\u001b[0m\n\u001b[0m\u001b[1;32m    341\u001b[0m             \u001b[0;32myield\u001b[0m \u001b[0mtrain\u001b[0m\u001b[0;34m,\u001b[0m \u001b[0mtest\u001b[0m\u001b[0;34m\u001b[0m\u001b[0;34m\u001b[0m\u001b[0m\n\u001b[1;32m    342\u001b[0m \u001b[0;34m\u001b[0m\u001b[0m\n",
      "\u001b[0;32m/usr/local/lib/python3.7/dist-packages/sklearn/model_selection/_split.py\u001b[0m in \u001b[0;36msplit\u001b[0;34m(self, X, y, groups)\u001b[0m\n\u001b[1;32m     84\u001b[0m         \u001b[0mX\u001b[0m\u001b[0;34m,\u001b[0m \u001b[0my\u001b[0m\u001b[0;34m,\u001b[0m \u001b[0mgroups\u001b[0m \u001b[0;34m=\u001b[0m \u001b[0mindexable\u001b[0m\u001b[0;34m(\u001b[0m\u001b[0mX\u001b[0m\u001b[0;34m,\u001b[0m \u001b[0my\u001b[0m\u001b[0;34m,\u001b[0m \u001b[0mgroups\u001b[0m\u001b[0;34m)\u001b[0m\u001b[0;34m\u001b[0m\u001b[0;34m\u001b[0m\u001b[0m\n\u001b[1;32m     85\u001b[0m         \u001b[0mindices\u001b[0m \u001b[0;34m=\u001b[0m \u001b[0mnp\u001b[0m\u001b[0;34m.\u001b[0m\u001b[0marange\u001b[0m\u001b[0;34m(\u001b[0m\u001b[0m_num_samples\u001b[0m\u001b[0;34m(\u001b[0m\u001b[0mX\u001b[0m\u001b[0;34m)\u001b[0m\u001b[0;34m)\u001b[0m\u001b[0;34m\u001b[0m\u001b[0;34m\u001b[0m\u001b[0m\n\u001b[0;32m---> 86\u001b[0;31m         \u001b[0;32mfor\u001b[0m \u001b[0mtest_index\u001b[0m \u001b[0;32min\u001b[0m \u001b[0mself\u001b[0m\u001b[0;34m.\u001b[0m\u001b[0m_iter_test_masks\u001b[0m\u001b[0;34m(\u001b[0m\u001b[0mX\u001b[0m\u001b[0;34m,\u001b[0m \u001b[0my\u001b[0m\u001b[0;34m,\u001b[0m \u001b[0mgroups\u001b[0m\u001b[0;34m)\u001b[0m\u001b[0;34m:\u001b[0m\u001b[0;34m\u001b[0m\u001b[0;34m\u001b[0m\u001b[0m\n\u001b[0m\u001b[1;32m     87\u001b[0m             \u001b[0mtrain_index\u001b[0m \u001b[0;34m=\u001b[0m \u001b[0mindices\u001b[0m\u001b[0;34m[\u001b[0m\u001b[0mnp\u001b[0m\u001b[0;34m.\u001b[0m\u001b[0mlogical_not\u001b[0m\u001b[0;34m(\u001b[0m\u001b[0mtest_index\u001b[0m\u001b[0;34m)\u001b[0m\u001b[0;34m]\u001b[0m\u001b[0;34m\u001b[0m\u001b[0;34m\u001b[0m\u001b[0m\n\u001b[1;32m     88\u001b[0m             \u001b[0mtest_index\u001b[0m \u001b[0;34m=\u001b[0m \u001b[0mindices\u001b[0m\u001b[0;34m[\u001b[0m\u001b[0mtest_index\u001b[0m\u001b[0;34m]\u001b[0m\u001b[0;34m\u001b[0m\u001b[0;34m\u001b[0m\u001b[0m\n",
      "\u001b[0;32m/usr/local/lib/python3.7/dist-packages/sklearn/model_selection/_split.py\u001b[0m in \u001b[0;36m_iter_test_masks\u001b[0;34m(self, X, y, groups)\u001b[0m\n\u001b[1;32m    707\u001b[0m \u001b[0;34m\u001b[0m\u001b[0m\n\u001b[1;32m    708\u001b[0m     \u001b[0;32mdef\u001b[0m \u001b[0m_iter_test_masks\u001b[0m\u001b[0;34m(\u001b[0m\u001b[0mself\u001b[0m\u001b[0;34m,\u001b[0m \u001b[0mX\u001b[0m\u001b[0;34m,\u001b[0m \u001b[0my\u001b[0m\u001b[0;34m=\u001b[0m\u001b[0;32mNone\u001b[0m\u001b[0;34m,\u001b[0m \u001b[0mgroups\u001b[0m\u001b[0;34m=\u001b[0m\u001b[0;32mNone\u001b[0m\u001b[0;34m)\u001b[0m\u001b[0;34m:\u001b[0m\u001b[0;34m\u001b[0m\u001b[0;34m\u001b[0m\u001b[0m\n\u001b[0;32m--> 709\u001b[0;31m         \u001b[0mtest_folds\u001b[0m \u001b[0;34m=\u001b[0m \u001b[0mself\u001b[0m\u001b[0;34m.\u001b[0m\u001b[0m_make_test_folds\u001b[0m\u001b[0;34m(\u001b[0m\u001b[0mX\u001b[0m\u001b[0;34m,\u001b[0m \u001b[0my\u001b[0m\u001b[0;34m)\u001b[0m\u001b[0;34m\u001b[0m\u001b[0;34m\u001b[0m\u001b[0m\n\u001b[0m\u001b[1;32m    710\u001b[0m         \u001b[0;32mfor\u001b[0m \u001b[0mi\u001b[0m \u001b[0;32min\u001b[0m \u001b[0mrange\u001b[0m\u001b[0;34m(\u001b[0m\u001b[0mself\u001b[0m\u001b[0;34m.\u001b[0m\u001b[0mn_splits\u001b[0m\u001b[0;34m)\u001b[0m\u001b[0;34m:\u001b[0m\u001b[0;34m\u001b[0m\u001b[0;34m\u001b[0m\u001b[0m\n\u001b[1;32m    711\u001b[0m             \u001b[0;32myield\u001b[0m \u001b[0mtest_folds\u001b[0m \u001b[0;34m==\u001b[0m \u001b[0mi\u001b[0m\u001b[0;34m\u001b[0m\u001b[0;34m\u001b[0m\u001b[0m\n",
      "\u001b[0;32m/usr/local/lib/python3.7/dist-packages/sklearn/model_selection/_split.py\u001b[0m in \u001b[0;36m_make_test_folds\u001b[0;34m(self, X, y)\u001b[0m\n\u001b[1;32m    652\u001b[0m             raise ValueError(\n\u001b[1;32m    653\u001b[0m                 \"Supported target types are: {}. Got {!r} instead.\".format(\n\u001b[0;32m--> 654\u001b[0;31m                     \u001b[0mallowed_target_types\u001b[0m\u001b[0;34m,\u001b[0m \u001b[0mtype_of_target_y\u001b[0m\u001b[0;34m\u001b[0m\u001b[0;34m\u001b[0m\u001b[0m\n\u001b[0m\u001b[1;32m    655\u001b[0m                 )\n\u001b[1;32m    656\u001b[0m             )\n",
      "\u001b[0;31mValueError\u001b[0m: Supported target types are: ('binary', 'multiclass'). Got 'multilabel-indicator' instead."
     ]
    }
   ],
   "source": [
    "from sklearn.model_selection import StratifiedKFold\n",
    "K = 5\n",
    "skf = StratifiedKFold(n_splits = K)\n",
    "skf.get_n_splits(train_X, train_label)\n",
    "\n",
    "AdamOptimizer = optimizers.Adam(lr=learning_rate)\n",
    "\n",
    "model = getModel()\n",
    "model.compile(optimizer=AdamOptimizer, loss='categorical_crossentropy', metrics=['accuracy'])\n",
    "\n",
    "i = 1\n",
    "resultados = [] ## Array para salvar os resultados de cada execução do algoritmo\n",
    "\n",
    "for train_index, test_index in skf.split(train_X, train_label):\n",
    "  print(\"FOLD: \", i, \"/\", K, \"TRAIN sets:\", len(train_index), \"TEST  sets:\", len(test_index))\n",
    "  i = i + 1\n",
    "\n",
    "  X_train, X_test = train_X[train_index], train_X[test_index]\n",
    "  y_train, y_test = train_label[train_index], train_label[test_index]\n",
    "\n",
    "  model_trained = model.fit_generator(train_generator.flow(X_train, y_train, batch_size=batch_size, shuffle = True), steps_per_epoch=len(train_X) // batch_size, epochs=epochs, verbose=1, callbacks=callback_to_save_model, validation_data=valid_generator.flow(X_test, y_test, shuffle = True), validation_steps=len(valid_X) // batch_size)\n",
    "\n",
    "  previsoes = classificador.predict(X_test)\n",
    "  previsoes = (previsoes > 0.5) # Se a saida for > 0.5 -> classe 1 senão classe 0\n",
    "  \n",
    "  from sklearn.metrics import confusion_matrix, accuracy_score\n",
    "  accuracy = accuracy_score(y_test, previsoes)\n",
    "  matriz = confusion_matrix(y_test, previsoes)\n",
    "\n",
    "  print('Accuracy: ', accuracy)\n",
    "  print('Matriz de confusão:')\n",
    "  print(matriz)\n",
    "  \n",
    "  resultados.append(accuracy)"
   ]
  },
  {
   "cell_type": "code",
   "execution_count": null,
   "metadata": {
    "colab": {
     "base_uri": "https://localhost:8080/",
     "height": 693
    },
    "id": "6mTcVyTZ4RKc",
    "outputId": "fb946b49-cbcd-4fb0-ed4e-ba60f10d6e30"
   },
   "outputs": [
    {
     "data": {
      "image/png": "[encoded data removed]",
      "text/plain": [
       "<Figure size 720x360 with 1 Axes>"
      ]
     },
     "metadata": {
      "needs_background": "light"
     },
     "output_type": "display_data"
    },
    {
     "data": {
      "image/png": "[encoded data removed]",
      "text/plain": [
       "<Figure size 720x360 with 1 Axes>"
      ]
     },
     "metadata": {
      "needs_background": "light"
     },
     "output_type": "display_data"
    }
   ],
   "source": [
    "def plotTraining(hist, epochs, typeData):\n",
    "    \n",
    "    if typeData==\"loss\":\n",
    "        plt.figure(1,figsize=(10,5))\n",
    "        yc=hist.history['loss']\n",
    "        xc=range(epochs) \n",
    "        plt.ylabel('Loss', fontsize=24)\n",
    "        plt.plot(xc,yc,'-r',label='Loss Training')\n",
    "    if typeData==\"accuracy\":\n",
    "        plt.figure(2,figsize=(10,5))\n",
    "        yc=hist.history['accuracy']\n",
    "        for i in range(0, len(yc)):\n",
    "            yc[i]=100*yc[i]\n",
    "        xc=range(epochs)\n",
    "        plt.ylabel('Accuracy (%)', fontsize=24)\n",
    "        plt.plot(xc,yc,'-r',label='Accuracy Training')\n",
    "    if typeData==\"val_loss\":\n",
    "        plt.figure(1,figsize=(10,5))\n",
    "        yc=hist.history['val_loss']\n",
    "        xc=range(epochs)\n",
    "        plt.ylabel('Loss', fontsize=24)\n",
    "        plt.plot(xc,yc,'--b',label='Loss Validate')\n",
    "    if typeData==\"val_accuracy\":\n",
    "        plt.figure(2,figsize=(10,5))\n",
    "        yc=hist.history['val_accuracy']\n",
    "        for i in range(0, len(yc)):\n",
    "            yc[i]=100*yc[i]\n",
    "        xc=range(epochs)\n",
    "        plt.ylabel('Accuracy (%)', fontsize=24)\n",
    "        plt.plot(xc,yc,'--b',label='Training Validate')\n",
    "        \n",
    "\n",
    "    plt.rc('xtick',labelsize=24)\n",
    "    plt.rc('ytick',labelsize=24)\n",
    "    plt.rc('legend', fontsize=18) \n",
    "    plt.legend()\n",
    "    plt.xlabel('Number of Epochs',fontsize=24)\n",
    "    plt.grid(True)\n",
    "\n",
    "plotTraining(model_trained,epochs,\"loss\")\n",
    "plotTraining(model_trained,epochs,\"accuracy\")\n",
    "plotTraining(model_trained,epochs,\"val_loss\")\n",
    "plotTraining(model_trained,epochs,\"val_accuracy\")"
   ]
  },
  {
   "cell_type": "code",
   "execution_count": null,
   "metadata": {
    "colab": {
     "base_uri": "https://localhost:8080/"
    },
    "id": "1pv_jKlYcbj3",
    "outputId": "4f4c8cc7-bed6-46be-9dff-ebc64d26fd9f"
   },
   "outputs": [
    {
     "name": "stdout",
     "output_type": "stream",
     "text": [
      "6/6 [==============================] - 1s 189ms/step - loss: 113.4406 - accuracy: 0.3967\n",
      "Test loss: 113.44055938720703\n",
      "Test accuracy: 0.39673912525177\n"
     ]
    }
   ],
   "source": [
    "test_eval = model.evaluate(test_X, test_Y_one_hot, verbose=1)\n",
    " \n",
    "print('Test loss:', test_eval[0])\n",
    "print('Test accuracy:', test_eval[1])\n",
    "\n"
   ]
  },
  {
   "cell_type": "code",
   "execution_count": null,
   "metadata": {
    "colab": {
     "base_uri": "https://localhost:8080/",
     "height": 1000
    },
    "id": "KP0_X0rVeOa4",
    "outputId": "6f381cd3-5d6d-43d5-f2ef-e7bfb229558a"
   },
   "outputs": [
    {
     "name": "stdout",
     "output_type": "stream",
     "text": [
      "Model: \"sequential_6\"\n",
      "_________________________________________________________________\n",
      " Layer (type)                Output Shape              Param #   \n",
      "=================================================================\n",
      " conv2d_15 (Conv2D)          (None, 396, 596, 64)      4864      \n",
      "                                                                 \n",
      " activation_25 (Activation)  (None, 396, 596, 64)      0         \n",
      "                                                                 \n",
      " dropout_15 (Dropout)        (None, 396, 596, 64)      0         \n",
      "                                                                 \n",
      " max_pooling2d_15 (MaxPoolin  (None, 198, 298, 64)     0         \n",
      " g2D)                                                            \n",
      "                                                                 \n",
      " conv2d_16 (Conv2D)          (None, 194, 294, 64)      102464    \n",
      "                                                                 \n",
      " activation_26 (Activation)  (None, 194, 294, 64)      0         \n",
      "                                                                 \n",
      " dropout_16 (Dropout)        (None, 194, 294, 64)      0         \n",
      "                                                                 \n",
      " max_pooling2d_16 (MaxPoolin  (None, 97, 147, 64)      0         \n",
      " g2D)                                                            \n",
      "                                                                 \n",
      " conv2d_17 (Conv2D)          (None, 93, 143, 64)       102464    \n",
      "                                                                 \n",
      " activation_27 (Activation)  (None, 93, 143, 64)       0         \n",
      "                                                                 \n",
      " dropout_17 (Dropout)        (None, 93, 143, 64)       0         \n",
      "                                                                 \n",
      " max_pooling2d_17 (MaxPoolin  (None, 46, 71, 64)       0         \n",
      " g2D)                                                            \n",
      "                                                                 \n",
      " flatten_5 (Flatten)         (None, 209024)            0         \n",
      "                                                                 \n",
      " dense_13 (Dense)            (None, 64)                13377600  \n",
      "                                                                 \n",
      " activation_28 (Activation)  (None, 64)                0         \n",
      "                                                                 \n",
      " dense_14 (Dense)            (None, 4)                 260       \n",
      "                                                                 \n",
      " activation_29 (Activation)  (None, 4)                 0         \n",
      "                                                                 \n",
      "=================================================================\n",
      "Total params: 13,587,652\n",
      "Trainable params: 13,587,652\n",
      "Non-trainable params: 0\n",
      "_________________________________________________________________\n"
     ]
    },
    {
     "name": "stderr",
     "output_type": "stream",
     "text": [
      "/usr/local/lib/python3.7/dist-packages/keras/optimizer_v2/adam.py:105: UserWarning: The `lr` argument is deprecated, use `learning_rate` instead.\n",
      "  super(Adam, self).__init__(name, **kwargs)\n"
     ]
    },
    {
     "ename": "ValueError",
     "evalue": "ignored",
     "output_type": "error",
     "traceback": [
      "\u001b[0;31m---------------------------------------------------------------------------\u001b[0m",
      "\u001b[0;31mValueError\u001b[0m                                Traceback (most recent call last)",
      "\u001b[0;32m<ipython-input-27-1cf1b8e8842d>\u001b[0m in \u001b[0;36m<module>\u001b[0;34m\u001b[0m\n\u001b[1;32m     49\u001b[0m \u001b[0;34m\u001b[0m\u001b[0m\n\u001b[1;32m     50\u001b[0m   \u001b[0;31m#train_generator es el metodo de DataAumengtation declarado en el bloque anterior.\u001b[0m\u001b[0;34m\u001b[0m\u001b[0;34m\u001b[0m\u001b[0;34m\u001b[0m\u001b[0m\n\u001b[0;32m---> 51\u001b[0;31m   \u001b[0mmodel_trained\u001b[0m \u001b[0;34m=\u001b[0m \u001b[0mmodel\u001b[0m\u001b[0;34m.\u001b[0m\u001b[0mfit\u001b[0m\u001b[0;34m(\u001b[0m\u001b[0mX\u001b[0m\u001b[0;34m[\u001b[0m\u001b[0mtrain\u001b[0m\u001b[0;34m]\u001b[0m\u001b[0;34m,\u001b[0m \u001b[0my\u001b[0m\u001b[0;34m[\u001b[0m\u001b[0mtrain\u001b[0m\u001b[0;34m]\u001b[0m\u001b[0;34m,\u001b[0m \u001b[0mepochs\u001b[0m\u001b[0;34m=\u001b[0m\u001b[0;36m150\u001b[0m\u001b[0;34m,\u001b[0m \u001b[0mbatch_size\u001b[0m\u001b[0;34m=\u001b[0m\u001b[0;36m10\u001b[0m\u001b[0;34m,\u001b[0m \u001b[0mverbose\u001b[0m\u001b[0;34m=\u001b[0m\u001b[0;36m0\u001b[0m\u001b[0;34m)\u001b[0m\u001b[0;34m\u001b[0m\u001b[0;34m\u001b[0m\u001b[0m\n\u001b[0m\u001b[1;32m     52\u001b[0m \u001b[0;34m\u001b[0m\u001b[0m\n\u001b[1;32m     53\u001b[0m         \u001b[0;31m# evaluate the model\u001b[0m\u001b[0;34m\u001b[0m\u001b[0;34m\u001b[0m\u001b[0;34m\u001b[0m\u001b[0m\n",
      "\u001b[0;32m/usr/local/lib/python3.7/dist-packages/keras/utils/traceback_utils.py\u001b[0m in \u001b[0;36merror_handler\u001b[0;34m(*args, **kwargs)\u001b[0m\n\u001b[1;32m     65\u001b[0m     \u001b[0;32mexcept\u001b[0m \u001b[0mException\u001b[0m \u001b[0;32mas\u001b[0m \u001b[0me\u001b[0m\u001b[0;34m:\u001b[0m  \u001b[0;31m# pylint: disable=broad-except\u001b[0m\u001b[0;34m\u001b[0m\u001b[0;34m\u001b[0m\u001b[0m\n\u001b[1;32m     66\u001b[0m       \u001b[0mfiltered_tb\u001b[0m \u001b[0;34m=\u001b[0m \u001b[0m_process_traceback_frames\u001b[0m\u001b[0;34m(\u001b[0m\u001b[0me\u001b[0m\u001b[0;34m.\u001b[0m\u001b[0m__traceback__\u001b[0m\u001b[0;34m)\u001b[0m\u001b[0;34m\u001b[0m\u001b[0;34m\u001b[0m\u001b[0m\n\u001b[0;32m---> 67\u001b[0;31m       \u001b[0;32mraise\u001b[0m \u001b[0me\u001b[0m\u001b[0;34m.\u001b[0m\u001b[0mwith_traceback\u001b[0m\u001b[0;34m(\u001b[0m\u001b[0mfiltered_tb\u001b[0m\u001b[0;34m)\u001b[0m \u001b[0;32mfrom\u001b[0m \u001b[0;32mNone\u001b[0m\u001b[0;34m\u001b[0m\u001b[0;34m\u001b[0m\u001b[0m\n\u001b[0m\u001b[1;32m     68\u001b[0m     \u001b[0;32mfinally\u001b[0m\u001b[0;34m:\u001b[0m\u001b[0;34m\u001b[0m\u001b[0;34m\u001b[0m\u001b[0m\n\u001b[1;32m     69\u001b[0m       \u001b[0;32mdel\u001b[0m \u001b[0mfiltered_tb\u001b[0m\u001b[0;34m\u001b[0m\u001b[0;34m\u001b[0m\u001b[0m\n",
      "\u001b[0;32m/usr/local/lib/python3.7/dist-packages/tensorflow/python/framework/func_graph.py\u001b[0m in \u001b[0;36mautograph_handler\u001b[0;34m(*args, **kwargs)\u001b[0m\n\u001b[1;32m   1145\u001b[0m           \u001b[0;32mexcept\u001b[0m \u001b[0mException\u001b[0m \u001b[0;32mas\u001b[0m \u001b[0me\u001b[0m\u001b[0;34m:\u001b[0m  \u001b[0;31m# pylint:disable=broad-except\u001b[0m\u001b[0;34m\u001b[0m\u001b[0;34m\u001b[0m\u001b[0m\n\u001b[1;32m   1146\u001b[0m             \u001b[0;32mif\u001b[0m \u001b[0mhasattr\u001b[0m\u001b[0;34m(\u001b[0m\u001b[0me\u001b[0m\u001b[0;34m,\u001b[0m \u001b[0;34m\"ag_error_metadata\"\u001b[0m\u001b[0;34m)\u001b[0m\u001b[0;34m:\u001b[0m\u001b[0;34m\u001b[0m\u001b[0;34m\u001b[0m\u001b[0m\n\u001b[0;32m-> 1147\u001b[0;31m               \u001b[0;32mraise\u001b[0m \u001b[0me\u001b[0m\u001b[0;34m.\u001b[0m\u001b[0mag_error_metadata\u001b[0m\u001b[0;34m.\u001b[0m\u001b[0mto_exception\u001b[0m\u001b[0;34m(\u001b[0m\u001b[0me\u001b[0m\u001b[0;34m)\u001b[0m\u001b[0;34m\u001b[0m\u001b[0;34m\u001b[0m\u001b[0m\n\u001b[0m\u001b[1;32m   1148\u001b[0m             \u001b[0;32melse\u001b[0m\u001b[0;34m:\u001b[0m\u001b[0;34m\u001b[0m\u001b[0;34m\u001b[0m\u001b[0m\n\u001b[1;32m   1149\u001b[0m               \u001b[0;32mraise\u001b[0m\u001b[0;34m\u001b[0m\u001b[0;34m\u001b[0m\u001b[0m\n",
      "\u001b[0;31mValueError\u001b[0m: in user code:\n\n    File \"/usr/local/lib/python3.7/dist-packages/keras/engine/training.py\", line 1021, in train_function  *\n        return step_function(self, iterator)\n    File \"/usr/local/lib/python3.7/dist-packages/keras/engine/training.py\", line 1010, in step_function  **\n        outputs = model.distribute_strategy.run(run_step, args=(data,))\n    File \"/usr/local/lib/python3.7/dist-packages/keras/engine/training.py\", line 1000, in run_step  **\n        outputs = model.train_step(data)\n    File \"/usr/local/lib/python3.7/dist-packages/keras/engine/training.py\", line 860, in train_step\n        loss = self.compute_loss(x, y, y_pred, sample_weight)\n    File \"/usr/local/lib/python3.7/dist-packages/keras/engine/training.py\", line 919, in compute_loss\n        y, y_pred, sample_weight, regularization_losses=self.losses)\n    File \"/usr/local/lib/python3.7/dist-packages/keras/engine/compile_utils.py\", line 201, in __call__\n        loss_value = loss_obj(y_t, y_p, sample_weight=sw)\n    File \"/usr/local/lib/python3.7/dist-packages/keras/losses.py\", line 141, in __call__\n        losses = call_fn(y_true, y_pred)\n    File \"/usr/local/lib/python3.7/dist-packages/keras/losses.py\", line 245, in call  **\n        return ag_fn(y_true, y_pred, **self._fn_kwargs)\n    File \"/usr/local/lib/python3.7/dist-packages/keras/losses.py\", line 1790, in categorical_crossentropy\n        y_true, y_pred, from_logits=from_logits, axis=axis)\n    File \"/usr/local/lib/python3.7/dist-packages/keras/backend.py\", line 5083, in categorical_crossentropy\n        target.shape.assert_is_compatible_with(output.shape)\n\n    ValueError: Shapes (None, 1) and (None, 4) are incompatible\n"
     ]
    }
   ],
   "source": [
    "\n",
    "from sklearn.model_selection import StratifiedKFold\n",
    "import numpy as np\n",
    "\n",
    "seed = 7\n",
    "np.random.seed(seed)\n",
    "\n",
    "kfold = StratifiedKFold(n_splits=20, shuffle=True, random_state=seed)\n",
    "cvscores  = []\n",
    "\n",
    "for train, test in kfold.split(X, y):\n",
    "\n",
    "  model = Sequential()\n",
    "\n",
    "  #Primera capa\n",
    "  model.add(Conv2D(64, \n",
    "        kernel_size=(kernel_size, kernel_size), padding=\"valid\",\n",
    "        strides=1, input_shape=input_shape))\n",
    "  model.add(Activation('relu'))\n",
    "  model.add(Dropout(0.2))\n",
    "  model.add(MaxPooling2D())\n",
    "\n",
    "  #Segunda capa\n",
    "  model.add(Conv2D(64, \n",
    "        kernel_size=(kernel_size, kernel_size), padding=\"valid\", strides=1))\n",
    "  model.add(Activation('relu'))\n",
    "  model.add(Dropout(0.2))\n",
    "  model.add(MaxPooling2D())\n",
    "\n",
    "  model.add(Conv2D(64, \n",
    "        kernel_size=(kernel_size, kernel_size), padding=\"valid\", strides=1))\n",
    "  model.add(Activation('relu'))\n",
    "  model.add(Dropout(0.2))\n",
    "  model.add(MaxPooling2D())  \n",
    "\n",
    "  #Aplanar los datos\n",
    "  model.add(Flatten())\n",
    "  model.add(Dense(64))\n",
    "  model.add(Activation('relu'))\n",
    "\n",
    "  #Clasificación \n",
    "  model.add(Dense(4))\n",
    "  model.add(Activation('softmax'))\n",
    "\n",
    "  AdamOptimizer = optimizers.Adam(lr=learning_rate)\n",
    "\n",
    "  model.summary()\n",
    "\n",
    "  model.compile(optimizer=AdamOptimizer, loss='categorical_crossentropy', metrics=['accuracy'])\n",
    "\n",
    "  #train_generator es el metodo de DataAumengtation declarado en el bloque anterior.\n",
    "  model_trained = model.fit(X[train], y[train], epochs=150, batch_size=10, verbose=0)\n",
    "\n",
    "\t# evaluate the model\n",
    "  scores = model.evaluate(X[test], y[test], verbose=0)\n",
    "  print(\"%s: %.2f%%\" % (model.metrics_names[1], scores[1]*100))\n",
    "  cvscores.append(scores[1] * 100)\n",
    "\n",
    "print(\"%.2f%% (+/- %.2f%%)\" % (np.mean(cvscores), np.std(cvscores)))\n"
   ]
  },
  {
   "cell_type": "code",
   "execution_count": null,
   "metadata": {
    "colab": {
     "base_uri": "https://localhost:8080/",
     "height": 252
    },
    "id": "No0VO1T6TbND",
    "outputId": "65fed9be-ea5c-4292-8c7f-ad7e48037545"
   },
   "outputs": [
    {
     "name": "stdout",
     "output_type": "stream",
     "text": [
      "Mounted at /content/gdrive\n"
     ]
    },
    {
     "ename": "FileNotFoundError",
     "evalue": "ignored",
     "output_type": "error",
     "traceback": [
      "\u001b[0;31m---------------------------------------------------------------------------\u001b[0m",
      "\u001b[0;31mFileNotFoundError\u001b[0m                         Traceback (most recent call last)",
      "\u001b[0;32m<ipython-input-1-05af2e390b97>\u001b[0m in \u001b[0;36m<module>\u001b[0;34m\u001b[0m\n\u001b[1;32m     42\u001b[0m         \u001b[0mc\u001b[0m\u001b[0;34m+=\u001b[0m\u001b[0;36m1\u001b[0m\u001b[0;34m\u001b[0m\u001b[0;34m\u001b[0m\u001b[0m\n\u001b[1;32m     43\u001b[0m         \u001b[0;31m#print('Cargando imagenes de la carpeta '+str(f))\u001b[0m\u001b[0;34m\u001b[0m\u001b[0;34m\u001b[0m\u001b[0;34m\u001b[0m\u001b[0m\n\u001b[0;32m---> 44\u001b[0;31m         \u001b[0;32mfor\u001b[0m \u001b[0mfilename\u001b[0m \u001b[0;32min\u001b[0m \u001b[0mos\u001b[0m\u001b[0;34m.\u001b[0m\u001b[0mlistdir\u001b[0m\u001b[0;34m(\u001b[0m\u001b[0mfolder\u001b[0m\u001b[0;34m)\u001b[0m\u001b[0;34m:\u001b[0m\u001b[0;34m\u001b[0m\u001b[0;34m\u001b[0m\u001b[0m\n\u001b[0m\u001b[1;32m     45\u001b[0m             \u001b[0;31m#imgR= folder+'/'+filename\u001b[0m\u001b[0;34m\u001b[0m\u001b[0;34m\u001b[0m\u001b[0;34m\u001b[0m\u001b[0m\n\u001b[1;32m     46\u001b[0m             \u001b[0mimgR\u001b[0m \u001b[0;34m=\u001b[0m \u001b[0mos\u001b[0m\u001b[0;34m.\u001b[0m\u001b[0mpath\u001b[0m\u001b[0;34m.\u001b[0m\u001b[0mjoin\u001b[0m\u001b[0;34m(\u001b[0m\u001b[0mfolder\u001b[0m\u001b[0;34m,\u001b[0m\u001b[0mfilename\u001b[0m\u001b[0;34m)\u001b[0m\u001b[0;34m\u001b[0m\u001b[0;34m\u001b[0m\u001b[0m\n",
      "\u001b[0;31mFileNotFoundError\u001b[0m: [Errno 2] No such file or directory: '/content/gdrive/MyDrive/TFM/data/set1'"
     ]
    }
   ],
   "source": [
    "# -*- coding: utf-8 -*-\n",
    "\"\"\"\n",
    "Created on Sat Mar 27 18:17:56 2021\n",
    "pip install opencv-python <--------- instalar\n",
    "@author: Daniela Sánchez\n",
    "ORL database con validacion cruzada (StratifiedKFold)\n",
    "\"\"\"\n",
    "import tensorflow as tf\n",
    "tf.compat.v1.logging.set_verbosity(tf.compat.v1.logging.ERROR)# Eliminar warning\n",
    "\n",
    "from keras.models import Sequential\n",
    "from keras.layers import Dense\n",
    "from keras.layers import Dropout\n",
    "from keras.layers import Flatten\n",
    "from keras.layers.convolutional import Conv2D\n",
    "from keras.layers.convolutional import MaxPooling2D\n",
    "from keras.utils import np_utils\n",
    "from sklearn.model_selection import train_test_split\n",
    "import time\n",
    "import os\n",
    "import cv2\n",
    "import numpy as np\n",
    "from sklearn.model_selection import StratifiedKFold\n",
    "from PIL import Image\n",
    "from google.colab import drive \n",
    "drive.mount('/content/gdrive') \n",
    "\n",
    "\n",
    "\n",
    "\n",
    "#ruta de la base de datos\n",
    "#path='ORL/'\n",
    "path='/content/gdrive/MyDrive/TFM/data/set' \n",
    "\n",
    "folders=40\n",
    "imgs=[]\n",
    "targets=[]\n",
    "c=-1\n",
    "\n",
    "for f in range(1,folders+1):\n",
    "        folder = path+str(f)\n",
    "        c+=1\n",
    "        #print('Cargando imagenes de la carpeta '+str(f))\n",
    "        for filename in os.listdir(folder):\n",
    "            #imgR= folder+'/'+filename\n",
    "            imgR = os.path.join(folder,filename)\n",
    "            img = cv2.imread(imgR) \n",
    "            img_rgb = cv2.cvtColor(img, cv2.COLOR_BGR2RGB)\n",
    "            #img = Image.open(myFile).convert('RGB')\n",
    "            # img = cv2.resize(img,(100,100))\n",
    "            # print(imgR)\n",
    "            if img_rgb is not None:\n",
    "                imgs.append(img)\n",
    "                targets.append(c)\n",
    "                \n",
    "                \n",
    "#plt.imshow(img)\n",
    "print('imagenes cargadas')\n",
    "\n",
    "\n",
    "#[muestras][ancho][alto][canales] <===== en CNN\n",
    "X=np.array(imgs)#.astype('float32')\n",
    "targets=np.array(targets)#.astype('float32')\n",
    "y = np_utils.to_categorical(targets)    \n",
    "\n",
    "num_classes= y.shape[1]\n",
    "\n",
    "height=400\n",
    "width=600\n",
    "channel=3\n",
    "\n",
    "#reformateamos todas las imagenes, sin importar si son para entrenamiento,validacion o prueba\n",
    "X= X.reshape(X.shape[0],height,width,channel).astype('float32')\n",
    "\n",
    "start = time.time()\n",
    "\n",
    "\n",
    "#Definimos el K fold, importante, creo que automaticamente da un 70/30 para train y test\n",
    "kfold= StratifiedKFold(n_splits=5,shuffle=True)\n",
    "cvscores = []\n",
    "\n",
    "for train,test in kfold.split(X,targets):\n",
    "    #definimos el modelo keras\n",
    "    model= Sequential()\n",
    "              #n mapas #filtro\n",
    "    model.add(Conv2D(16,(5,5),input_shape=(width,height,channel),activation='relu'))\n",
    "    model.add(MaxPooling2D())\n",
    "    model.add(Conv2D(32,(5,5),activation='relu'))\n",
    "    model.add(MaxPooling2D())\n",
    "    model.add(Conv2D(64,(5,5),activation='relu'))\n",
    "    model.add(MaxPooling2D())\n",
    "    model.add(Dropout(0.2))\n",
    "    model.add(Flatten())\n",
    "    model.add(Dense(528,activation='relu'))\n",
    "    model.add(Dense(342,activation='relu'))\n",
    "    model.add(Dense(128,activation='relu'))\n",
    "    #capa de salida (Si fuera binaria\n",
    "    #model.add(Dense(1,activation='sigmoid')) #binaria\n",
    "    #model.compile(loss='binary_crossentropy',optimizer='adam', metrics=['accuracy']) #binaria\n",
    "    #capa de salida\n",
    "    model.add(Dense(num_classes,activation='softmax'))\n",
    "    model.compile(loss='categorical_crossentropy',optimizer='adam', metrics=['accuracy'])\n",
    "    #De los datos para entrenamiento, saco para la validacion\n",
    "    X_train,X_validation,y_train,y_validation = train_test_split(X[train],y[train],test_size=0.20) \n",
    "    # Entrenar\n",
    "    # model.fit(X[train],y[train],epochs=10,batch_size=10,verbose=1) <---- si no tuviera conjunto para validacion\n",
    "    # verbose=0 no muestra paso por paso\n",
    "    model.fit(X_train,y_train,validation_data=(X_validation,y_validation),epochs=10,batch_size=20,verbose=0)# training / validation\n",
    "    # Evaluar\n",
    "    scores=model.evaluate(X[test],y[test],verbose=0)\n",
    "    print(\"%s: %.2f%%\" % (model.metrics_names[1],scores[1]*100))\n",
    "    cvscores.append(scores[1]*100)\n",
    "\n",
    "\n",
    "\n",
    "print(\"%.2f%% (+/- %.2f%%)\" %(np.mean(cvscores),np.std(cvscores)))\n",
    "#print(model.metrics_names)\n",
    "\n",
    "done = time.time()\n",
    "elapsed = done - start\n",
    "\n",
    "print(\"Time: %0.2f sec\"%(elapsed))\n",
    "\n",
    "print('listo')\n"
   ]
  },
  {
   "cell_type": "code",
   "execution_count": null,
   "metadata": {
    "colab": {
     "base_uri": "https://localhost:8080/",
     "height": 281
    },
    "id": "2Xcxu8ao7zii",
    "outputId": "9dc6b7f9-e427-4011-b009-1bf0e5ff5b68"
   },
   "outputs": [
    {
     "data": {
      "image/png": "[encoded data removed]",
      "text/plain": [
       "<Figure size 432x288 with 1 Axes>"
      ]
     },
     "metadata": {
      "needs_background": "light"
     },
     "output_type": "display_data"
    }
   ],
   "source": [
    "import matplotlib\n",
    "import matplotlib.pyplot as plt\n",
    "import numpy as np\n",
    "\n",
    "x = ['total', 'fallos']\n",
    "y = [1143, 110]\n",
    "\n",
    "fig, ax = plt.subplots()\n",
    "ax.set_ylabel('API calls')\n",
    "#Colocamos una etiqueta en el eje X\n",
    "ax.set_title('API calls errors PRE - 1143')\n",
    "\n",
    "plt.bar(x, y)\n",
    "plt.show()"
   ]
  },
  {
   "cell_type": "code",
   "execution_count": null,
   "metadata": {
    "colab": {
     "base_uri": "https://localhost:8080/",
     "height": 281
    },
    "id": "pnBMf3fE-viU",
    "outputId": "8abbd38b-d37d-47ec-f878-70297b20f6f9"
   },
   "outputs": [
    {
     "data": {
      "image/png": "[encoded data removed]",
      "text/plain": [
       "<Figure size 432x288 with 1 Axes>"
      ]
     },
     "metadata": {
      "needs_background": "light"
     },
     "output_type": "display_data"
    }
   ],
   "source": [
    "import matplotlib\n",
    "import matplotlib.pyplot as plt\n",
    "import numpy as np\n",
    "\n",
    "x = ['total', 'fallos']\n",
    "y = [347209, 14393]\n",
    "\n",
    "fig, ax = plt.subplots()\n",
    "ax.set_ylabel('API calls')\n",
    "#Colocamos una etiqueta en el eje X\n",
    "ax.set_title('API calls errors PRO - 347209')\n",
    "\n",
    "plt.bar(x, y)\n",
    "plt.show()"
   ]
  },
  {
   "cell_type": "code",
   "execution_count": null,
   "metadata": {
    "colab": {
     "base_uri": "https://localhost:8080/",
     "height": 248
    },
    "id": "fb426JXY_VpB",
    "outputId": "e7e252b1-9042-4441-8c54-a6d524e69d51"
   },
   "outputs": [
    {
     "data": {
      "image/png": "[encoded data removed]",
      "text/plain": [
       "<Figure size 432x288 with 1 Axes>"
      ]
     },
     "metadata": {},
     "output_type": "display_data"
    }
   ],
   "source": [
    "import matplotlib.pyplot as plt\n",
    "\n",
    "amounts = [347209, 14393]\n",
    "labels = [\"total\",\"error\"]\n",
    "plt.pie(amounts, labels=labels, autopct=\"%0.1f %%\")\n",
    "plt.axis(\"equal\")\n",
    "plt.show()\n"
   ]
  },
  {
   "cell_type": "code",
   "execution_count": null,
   "metadata": {
    "colab": {
     "base_uri": "https://localhost:8080/",
     "height": 248
    },
    "id": "3GAOaK7mBG7q",
    "outputId": "7ec3f09d-4ffc-4d93-8053-2afad9b3480e"
   },
   "outputs": [
    {
     "data": {
      "image/png": "[encoded data removed]",
      "text/plain": [
       "<Figure size 432x288 with 1 Axes>"
      ]
     },
     "metadata": {},
     "output_type": "display_data"
    }
   ],
   "source": [
    "import matplotlib.pyplot as plt\n",
    "\n",
    "amounts = [1143, 110]\n",
    "labels = [\"total\",\"error\"]\n",
    "plt.pie(amounts, labels=labels, autopct=\"%0.1f %%\")\n",
    "plt.axis(\"equal\")\n",
    "plt.show()"
   ]
  }
 ],
 "metadata": {
  "accelerator": "GPU",
  "colab": {
   "collapsed_sections": [],
   "machine_shape": "hm",
   "provenance": []
  },
  "gpuClass": "standard",
  "kernelspec": {
   "display_name": "Python 3 (ipykernel)",
   "language": "python",
   "name": "python3"
  },
  "language_info": {
   "codemirror_mode": {
    "name": "ipython",
    "version": 3
   },
   "file_extension": ".py",
   "mimetype": "text/x-python",
   "name": "python",
   "nbconvert_exporter": "python",
   "pygments_lexer": "ipython3",
   "version": "3.9.12"
  }
 },
 "nbformat": 4,
 "nbformat_minor": 1
}
